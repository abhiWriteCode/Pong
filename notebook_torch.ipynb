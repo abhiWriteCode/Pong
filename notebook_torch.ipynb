{
  "nbformat": 4,
  "nbformat_minor": 0,
  "metadata": {
    "accelerator": "GPU",
    "colab": {
      "name": "Pong.ipynb",
      "provenance": [],
      "include_colab_link": true
    },
    "kernelspec": {
      "display_name": "Python 3",
      "language": "python",
      "name": "python3"
    },
    "language_info": {
      "codemirror_mode": {
        "name": "ipython",
        "version": 3
      },
      "file_extension": ".py",
      "mimetype": "text/x-python",
      "name": "python",
      "nbconvert_exporter": "python",
      "pygments_lexer": "ipython3",
      "version": "3.7.3"
    }
  },
  "cells": [
    {
      "cell_type": "markdown",
      "metadata": {
        "id": "view-in-github",
        "colab_type": "text"
      },
      "source": [
        "<a href=\"https://colab.research.google.com/github/abhiWriteCode/Pong/blob/master/notebook_torch.ipynb\" target=\"_parent\"><img src=\"https://colab.research.google.com/assets/colab-badge.svg\" alt=\"Open In Colab\"/></a>"
      ]
    },
    {
      "cell_type": "code",
      "metadata": {
        "cellView": "form",
        "colab_type": "code",
        "id": "9K6ooZaMpb1l",
        "outputId": "748ac7f9-48ea-4f09-edbf-e33773f41b89",
        "colab": {
          "base_uri": "https://localhost:8080/",
          "height": 269
        }
      },
      "source": [
        "#@title Install dependencies\n",
        "!apt-get install -y xvfb python-opengl > /dev/null 2>&1\n",
        "!pip install gym pyvirtualdisplay matplotlib scikit-video > /dev/null 2>&1\n",
        "!pip install gym[atari] 2>&1"
      ],
      "execution_count": 1,
      "outputs": [
        {
          "output_type": "stream",
          "text": [
            "Requirement already satisfied: gym[atari] in /usr/local/lib/python3.6/dist-packages (0.10.11)\n",
            "Requirement already satisfied: requests>=2.0 in /usr/local/lib/python3.6/dist-packages (from gym[atari]) (2.21.0)\n",
            "Requirement already satisfied: pyglet>=1.2.0 in /usr/local/lib/python3.6/dist-packages (from gym[atari]) (1.4.4)\n",
            "Requirement already satisfied: numpy>=1.10.4 in /usr/local/lib/python3.6/dist-packages (from gym[atari]) (1.16.5)\n",
            "Requirement already satisfied: scipy in /usr/local/lib/python3.6/dist-packages (from gym[atari]) (1.3.1)\n",
            "Requirement already satisfied: six in /usr/local/lib/python3.6/dist-packages (from gym[atari]) (1.12.0)\n",
            "Requirement already satisfied: PyOpenGL; extra == \"atari\" in /usr/local/lib/python3.6/dist-packages (from gym[atari]) (3.1.0)\n",
            "Requirement already satisfied: Pillow; extra == \"atari\" in /usr/local/lib/python3.6/dist-packages (from gym[atari]) (4.3.0)\n",
            "Requirement already satisfied: atari-py>=0.1.4; extra == \"atari\" in /usr/local/lib/python3.6/dist-packages (from gym[atari]) (0.1.15)\n",
            "Requirement already satisfied: idna<2.9,>=2.5 in /usr/local/lib/python3.6/dist-packages (from requests>=2.0->gym[atari]) (2.8)\n",
            "Requirement already satisfied: chardet<3.1.0,>=3.0.2 in /usr/local/lib/python3.6/dist-packages (from requests>=2.0->gym[atari]) (3.0.4)\n",
            "Requirement already satisfied: urllib3<1.25,>=1.21.1 in /usr/local/lib/python3.6/dist-packages (from requests>=2.0->gym[atari]) (1.24.3)\n",
            "Requirement already satisfied: certifi>=2017.4.17 in /usr/local/lib/python3.6/dist-packages (from requests>=2.0->gym[atari]) (2019.9.11)\n",
            "Requirement already satisfied: future in /usr/local/lib/python3.6/dist-packages (from pyglet>=1.2.0->gym[atari]) (0.16.0)\n",
            "Requirement already satisfied: olefile in /usr/local/lib/python3.6/dist-packages (from Pillow; extra == \"atari\"->gym[atari]) (0.46)\n"
          ],
          "name": "stdout"
        }
      ]
    },
    {
      "cell_type": "code",
      "metadata": {
        "colab_type": "code",
        "id": "AwA85eHLktbh",
        "outputId": "0e071053-842d-43cc-c0e3-d4319fce4a5a",
        "colab": {
          "base_uri": "https://localhost:8080/",
          "height": 34
        }
      },
      "source": [
        "import torch\n",
        "import torch.nn as nn\n",
        "import torch.nn.functional as F\n",
        "from torch.distributions import Categorical\n",
        "\n",
        "import gym\n",
        "import numpy as np\n",
        "import matplotlib.pyplot as plt\n",
        "from IPython import display as ipythondisplay\n",
        "import time\n",
        "import utils\n",
        "\n",
        "\n",
        "torch.manual_seed(0) # set random seed\n",
        "\n",
        "torch.__version__"
      ],
      "execution_count": 1,
      "outputs": [
        {
          "output_type": "execute_result",
          "data": {
            "text/plain": [
              "'1.2.0'"
            ]
          },
          "metadata": {
            "tags": []
          },
          "execution_count": 1
        }
      ]
    },
    {
      "cell_type": "code",
      "metadata": {
        "colab_type": "code",
        "id": "sVobm8RNl-HL",
        "outputId": "8799182c-9ae6-4adf-d6b9-aff19e1b806b",
        "colab": {
          "base_uri": "https://localhost:8080/",
          "height": 34
        }
      },
      "source": [
        "env = gym.make(\"Pong-v0\")\n",
        "env.seed(1) # reproducible, since RL has high variance"
      ],
      "execution_count": 2,
      "outputs": [
        {
          "output_type": "execute_result",
          "data": {
            "text/plain": [
              "[1, 289714752]"
            ]
          },
          "metadata": {
            "tags": []
          },
          "execution_count": 2
        }
      ]
    },
    {
      "cell_type": "code",
      "metadata": {
        "colab_type": "code",
        "id": "8PZNriMCmLjH",
        "outputId": "7aa854f2-d549-4569-dc1c-ae68dc4d02d2",
        "colab": {
          "base_uri": "https://localhost:8080/",
          "height": 34
        }
      },
      "source": [
        "print (\"Enviornment has observation space = {}\".format(env.observation_space))"
      ],
      "execution_count": 3,
      "outputs": [
        {
          "output_type": "stream",
          "text": [
            "Enviornment has observation space = Box(210, 160, 3)\n"
          ],
          "name": "stdout"
        }
      ]
    },
    {
      "cell_type": "code",
      "metadata": {
        "colab_type": "code",
        "id": "dsYdAzWAmPSj",
        "outputId": "5fd75774-5fb8-4471-91c9-394664f3acc7",
        "colab": {
          "base_uri": "https://localhost:8080/",
          "height": 34
        }
      },
      "source": [
        "n_actions = env.action_space.n\n",
        "print (\"Number of possible actions that the agent can choose from = {}\".format(n_actions))"
      ],
      "execution_count": 4,
      "outputs": [
        {
          "output_type": "stream",
          "text": [
            "Number of possible actions that the agent can choose from = 6\n"
          ],
          "name": "stdout"
        }
      ]
    },
    {
      "cell_type": "code",
      "metadata": {
        "id": "LZaFUTVOrtMB",
        "colab_type": "code",
        "colab": {}
      },
      "source": [
        "def create_model():\n",
        "    model = nn.Sequential(\n",
        "        nn.Conv2d(1, 16, kernel_size=(7, 7), stride=(4, 4), padding=3),\n",
        "        nn.ReLU(inplace=True),\n",
        "        nn.Conv2d(16, 32, kernel_size=(7, 7), stride=(2, 2), padding=3),\n",
        "        nn.ReLU(inplace=True),\n",
        "        nn.Flatten(),\n",
        "        nn.Linear(3200, 256),\n",
        "        nn.ReLU(inplace=True),\n",
        "        nn.Linear(256, n_actions),\n",
        "        nn.Softmax(dim=1)\n",
        "    )\n",
        "    return model"
      ],
      "execution_count": 0,
      "outputs": []
    },
    {
      "cell_type": "code",
      "metadata": {
        "colab_type": "code",
        "id": "98aMNOVQqnkY",
        "colab": {}
      },
      "source": [
        "def choose_action(model, state, eval=False):\n",
        "    \n",
        "    state = torch.from_numpy(state.reshape(1, 1, 80, 80)).float().to(device)\n",
        "    probs = model(state).cpu()\n",
        "\n",
        "    if eval:\n",
        "        action = probs.argmax()\n",
        "        return action.item()\n",
        "\n",
        "    m = Categorical(probs)\n",
        "    action = m.sample()\n",
        "    return action.item(), m.log_prob(action)"
      ],
      "execution_count": 0,
      "outputs": []
    },
    {
      "cell_type": "code",
      "metadata": {
        "colab_type": "code",
        "id": "LVkYOfNgmq7o",
        "colab": {}
      },
      "source": [
        "def normalize(x):\n",
        "    x -= np.mean(x)\n",
        "    x /= np.std(x)\n",
        "    return x\n",
        "\n",
        "def discount_rewards(rewards, gamma=0.99): \n",
        "    discounted_rewards = np.zeros_like(rewards)\n",
        "    R = 0\n",
        "    for t in reversed(range(0, len(rewards))):\n",
        "        # NEW: Reset sum\n",
        "        if rewards[t] != 0:\n",
        "            R = 0\n",
        "        # update the total discounted reward as before\n",
        "        R = R * gamma + rewards[t]\n",
        "        discounted_rewards[t] = R\n",
        "        \n",
        "    return normalize(discounted_rewards)\n",
        "\n",
        "device = torch.device(\"cuda\" if torch.cuda.is_available() else \"cpu\")"
      ],
      "execution_count": 0,
      "outputs": []
    },
    {
      "cell_type": "code",
      "metadata": {
        "colab_type": "code",
        "id": "Oce_lExCnc2w",
        "colab": {}
      },
      "source": [
        "def pre_process(image):\n",
        "    I = image[35:195] # Crop\n",
        "    I = I[::2, ::2, 0] # Downsample width and height by a factor of 2\n",
        "    I[I == 144] = 0 # Remove background type 1\n",
        "    I[I == 109] = 0 # Remove background type 2\n",
        "    I[I != 0] = 1 # Set remaining elements (paddles, ball, etc.) to 1\n",
        "    return I.astype(np.float).ravel()"
      ],
      "execution_count": 0,
      "outputs": []
    },
    {
      "cell_type": "code",
      "metadata": {
        "colab_type": "code",
        "id": "luWnLWJrn0JL",
        "outputId": "89dae3bd-976d-4f10-9145-a60b2f038da7",
        "colab": {
          "base_uri": "https://localhost:8080/",
          "height": 278
        }
      },
      "source": [
        "observation = env.reset()\n",
        "for i in range(30):\n",
        "    observation, _,_,_ = env.step(0)\n",
        "observation_pp = pre_process(observation)\n",
        "\n",
        "f = plt.figure(figsize=(10,3))\n",
        "ax = f.add_subplot(121)\n",
        "ax2 = f.add_subplot(122)\n",
        "ax.imshow(observation); ax.grid('off');\n",
        "ax2.imshow(observation_pp.reshape((80,80))); ax2.grid('off'); plt.title('Preprocessed Observation')\n",
        "plt.show()"
      ],
      "execution_count": 9,
      "outputs": [
        {
          "output_type": "stream",
          "text": [
            "/usr/local/lib/python3.6/dist-packages/matplotlib/cbook/__init__.py:424: MatplotlibDeprecationWarning: \n",
            "Passing one of 'on', 'true', 'off', 'false' as a boolean is deprecated; use an actual boolean (True/False) instead.\n",
            "  warn_deprecated(\"2.2\", \"Passing one of 'on', 'true', 'off', 'false' as a \"\n"
          ],
          "name": "stderr"
        },
        {
          "output_type": "display_data",
          "data": {
            "image/png": "[encoded data removed]",
            "text/plain": [
              "<Figure size 720x216 with 2 Axes>"
            ]
          },
          "metadata": {
            "tags": []
          }
        }
      ]
    },
    {
      "cell_type": "code",
      "metadata": {
        "id": "Ewege0LrzWd6",
        "colab_type": "code",
        "colab": {}
      },
      "source": [
        "def reinforce(model, optimizer, n_episodes=10000, gamma=0.99):\n",
        "    scores = []\n",
        "    \n",
        "    smoothed_reward = utils.LossHistory(smoothing_factor=0.5)\n",
        "    plotter = utils.PeriodicPlotter(sec=10, xlabel='Iterations', ylabel='Rewards')\n",
        "\n",
        "    for i_episode in range(1, n_episodes + 1):\n",
        "        saved_log_probs = []\n",
        "        rewards = []\n",
        "\n",
        "        # Restart the environment\n",
        "        observation = env.reset()\n",
        "        previous_frame = pre_process(observation)\n",
        "        done = False\n",
        "        while not done:\n",
        "            current_frame = pre_process(observation)\n",
        "            obs_change = current_frame - previous_frame\n",
        "            action, log_prob = choose_action(model, obs_change)\n",
        "            next_observation, reward, done, _ = env.step(action)\n",
        "                \n",
        "            observation = next_observation\n",
        "            previous_frame = current_frame\n",
        "\n",
        "            saved_log_probs.append(log_prob)\n",
        "            rewards.append(reward)\n",
        "                \n",
        "        total_reward = sum(rewards)\n",
        "        scores.append( total_reward )\n",
        "        smoothed_reward.append( total_reward )\n",
        "\n",
        "        R = discount_rewards(rewards, gamma=gamma)\n",
        "        R = torch.from_numpy(R)\n",
        "\n",
        "        policy_loss = []\n",
        "        for log_prob, r in zip(saved_log_probs, R):\n",
        "            policy_loss.append(-log_prob * r)\n",
        "        policy_loss = torch.cat(policy_loss).sum()\n",
        "\n",
        "        optimizer.zero_grad()\n",
        "        policy_loss.backward()\n",
        "        optimizer.step()\n",
        "\n",
        "        plotter.plot(smoothed_reward.get())\n",
        "        # print(f'Avg Reward : {np.mean(scores):.4f} | Current Reward : {total_reward:.4f}')"
      ],
      "execution_count": 0,
      "outputs": []
    },
    {
      "cell_type": "code",
      "metadata": {
        "id": "iuGBWLUc4Btv",
        "colab_type": "code",
        "colab": {
          "base_uri": "https://localhost:8080/",
          "height": 202
        },
        "outputId": "c33c2419-3c40-4655-a3d7-2f154840e591"
      },
      "source": [
        "pong = create_model().to(device)\n",
        "optimizer = torch.optim.Adam(pong.parameters(), lr=1e-2)\n",
        "\n",
        "pong"
      ],
      "execution_count": 21,
      "outputs": [
        {
          "output_type": "execute_result",
          "data": {
            "text/plain": [
              "Sequential(\n",
              "  (0): Conv2d(1, 16, kernel_size=(7, 7), stride=(4, 4), padding=(3, 3))\n",
              "  (1): ReLU(inplace=True)\n",
              "  (2): Conv2d(16, 32, kernel_size=(7, 7), stride=(2, 2), padding=(3, 3))\n",
              "  (3): ReLU(inplace=True)\n",
              "  (4): Flatten()\n",
              "  (5): Linear(in_features=3200, out_features=256, bias=True)\n",
              "  (6): ReLU(inplace=True)\n",
              "  (7): Linear(in_features=256, out_features=6, bias=True)\n",
              "  (8): Softmax(dim=1)\n",
              ")"
            ]
          },
          "metadata": {
            "tags": []
          },
          "execution_count": 21
        }
      ]
    },
    {
      "cell_type": "code",
      "metadata": {
        "id": "TlroxCE45Oc5",
        "colab_type": "code",
        "colab": {
          "base_uri": "https://localhost:8080/",
          "height": 549
        },
        "outputId": "04dd97bb-14a6-4b99-fd4e-605bdf279269"
      },
      "source": [
        "try:\n",
        "    reinforce(pong, optimizer, n_episodes=10000)\n",
        "except KeyboardInterrupt:\n",
        "    pass"
      ],
      "execution_count": 26,
      "outputs": [
        {
          "output_type": "display_data",
          "data": {
            "image/png": "[encoded data removed]",
            "text/plain": [
              "<Figure size 432x288 with 1 Axes>"
            ]
          },
          "metadata": {
            "tags": []
          }
        },
        {
          "output_type": "display_data",
          "data": {
            "image/png": "[encoded data removed]",
            "text/plain": [
              "<Figure size 432x288 with 1 Axes>"
            ]
          },
          "metadata": {
            "tags": []
          }
        }
      ]
    },
    {
      "cell_type": "code",
      "metadata": {
        "id": "6OOJJcSjnByQ",
        "colab_type": "code",
        "colab": {}
      },
      "source": [
        "checkpoint = 'checkpoint.pt'\n",
        "torch.save(pong.state_dict(), checkpoint)"
      ],
      "execution_count": 0,
      "outputs": []
    },
    {
      "cell_type": "code",
      "metadata": {
        "id": "_-5JeNrNnHY_",
        "colab_type": "code",
        "colab": {
          "base_uri": "https://localhost:8080/",
          "height": 202
        },
        "outputId": "14992381-ab05-4bc1-a010-38bb492570df"
      },
      "source": [
        "# Evaluation Model\n",
        "\n",
        "pong_eval = create_model().to(device)\n",
        "pong_eval.load_state_dict(torch.load(checkpoint))\n",
        "pong_eval.eval()"
      ],
      "execution_count": 40,
      "outputs": [
        {
          "output_type": "execute_result",
          "data": {
            "text/plain": [
              "Sequential(\n",
              "  (0): Conv2d(1, 16, kernel_size=(7, 7), stride=(4, 4), padding=(3, 3))\n",
              "  (1): ReLU(inplace=True)\n",
              "  (2): Conv2d(16, 32, kernel_size=(7, 7), stride=(2, 2), padding=(3, 3))\n",
              "  (3): ReLU(inplace=True)\n",
              "  (4): Flatten()\n",
              "  (5): Linear(in_features=3200, out_features=256, bias=True)\n",
              "  (6): ReLU(inplace=True)\n",
              "  (7): Linear(in_features=256, out_features=6, bias=True)\n",
              "  (8): Softmax(dim=1)\n",
              ")"
            ]
          },
          "metadata": {
            "tags": []
          },
          "execution_count": 40
        }
      ]
    },
    {
      "cell_type": "code",
      "metadata": {
        "colab_type": "code",
        "id": "henoTNTx4Zcg",
        "colab": {
          "base_uri": "https://localhost:8080/",
          "height": 50
        },
        "outputId": "2cc24815-e3c0-415e-c59c-fc3a0c28bc20"
      },
      "source": [
        "def save_video_of_model(model, env_name, filename='agent.mp4'):  \n",
        "    import skvideo.io\n",
        "    from pyvirtualdisplay import Display\n",
        "    display = Display(visible=0, size=(40, 30))\n",
        "    display.start()\n",
        "\n",
        "    env = gym.make(env_name)\n",
        "    obs = env.reset()\n",
        "    shape = env.render(mode='rgb_array').shape[0:2]\n",
        "\n",
        "    out = skvideo.io.FFmpegWriter(filename)\n",
        "\n",
        "    previous_frame = pre_process(obs)\n",
        "    done = False\n",
        "    \n",
        "    model.eval()\n",
        "    with torch.no_grad():\n",
        "        while not done: \n",
        "            frame = env.render(mode='rgb_array')\n",
        "            out.writeFrame(frame)\n",
        "\n",
        "            current_frame = pre_process(obs)\n",
        "\n",
        "            obs_change = current_frame - previous_frame \n",
        "\n",
        "            action = choose_action(model, obs_change, eval=True)\n",
        "            \n",
        "            obs, reward, done, info = env.step(action)\n",
        "            previous_frame = current_frame\n",
        "    out.close()\n",
        "    print (\"Successfully saved into {}!\".format(filename))\n",
        "\n",
        "save_video_of_model(pong_eval, \"Pong-v0\", filename='pong_agent.mp4')"
      ],
      "execution_count": 42,
      "outputs": [
        {
          "output_type": "stream",
          "text": [
            "xdpyinfo was not found, X start can not be checked! Please install xdpyinfo!\n"
          ],
          "name": "stderr"
        },
        {
          "output_type": "stream",
          "text": [
            "Successfully saved into pong_agent.mp4!\n"
          ],
          "name": "stdout"
        }
      ]
    },
    {
      "cell_type": "code",
      "metadata": {
        "colab_type": "code",
        "id": "hPB8yIQSpJuY",
        "colab": {}
      },
      "source": [
        "from IPython.display import HTML\n",
        "import io, base64\n",
        "video = io.open('./pong_agent.mp4', 'r+b').read()\n",
        "encoded = base64.b64encode(video)\n",
        "HTML(data='''\n",
        "<video controls>\n",
        "    <source src=\"data:video/mp4;base64,{0}\" type=\"video/mp4\" />\n",
        "</video>'''.format(encoded.decode('ascii')))"
      ],
      "execution_count": 0,
      "outputs": []
    },
    {
      "cell_type": "code",
      "metadata": {
        "id": "xij1vBALJLCq",
        "colab_type": "code",
        "colab": {}
      },
      "source": [
        ""
      ],
      "execution_count": 0,
      "outputs": []
    }
  ]
}